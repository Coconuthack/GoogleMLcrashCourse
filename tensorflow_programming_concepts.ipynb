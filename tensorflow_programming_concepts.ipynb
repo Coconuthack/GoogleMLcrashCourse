{
  "nbformat": 4,
  "nbformat_minor": 0,
  "metadata": {
    "colab": {
      "name": "tensorflow_programming_concepts.ipynb",
      "version": "0.3.2",
      "provenance": [],
      "collapsed_sections": [
        "JndnmDMp66FL",
        "Zep4W80H9awM"
      ]
    }
  },
  "cells": [
    {
      "cell_type": "markdown",
      "metadata": {
        "id": "view-in-github",
        "colab_type": "text"
      },
      "source": [
        "[View in Colaboratory](https://colab.research.google.com/github/Coconuthack/GoogleMLcrashCourse/blob/master/tensorflow_programming_concepts.ipynb)"
      ]
    },
    {
      "metadata": {
        "id": "JndnmDMp66FL",
        "colab_type": "text"
      },
      "cell_type": "markdown",
      "source": [
        "#### Copyright 2017 Google LLC."
      ]
    },
    {
      "metadata": {
        "id": "hMqWDc_m6rUC",
        "colab_type": "code",
        "colab": {}
      },
      "cell_type": "code",
      "source": [
        "# Licensed under the Apache License, Version 2.0 (the \"License\");\n",
        "# you may not use this file except in compliance with the License.\n",
        "# You may obtain a copy of the License at\n",
        "#\n",
        "# https://www.apache.org/licenses/LICENSE-2.0\n",
        "#\n",
        "# Unless required by applicable law or agreed to in writing, software\n",
        "# distributed under the License is distributed on an \"AS IS\" BASIS,\n",
        "# WITHOUT WARRANTIES OR CONDITIONS OF ANY KIND, either express or implied.\n",
        "# See the License for the specific language governing permissions and\n",
        "# limitations under the License."
      ],
      "execution_count": 0,
      "outputs": []
    },
    {
      "metadata": {
        "id": "rFpcvnCJ4Xkf",
        "colab_type": "text"
      },
      "cell_type": "markdown",
      "source": [
        "# TensorFlow Programming Concepts"
      ]
    },
    {
      "metadata": {
        "id": "9IkBOsrNzahz",
        "colab_type": "text"
      },
      "cell_type": "markdown",
      "source": [
        "**Learning Objectives:**\n",
        "  * Learn the basics of the TensorFlow programming model, focusing on the following concepts:\n",
        "    * tensors\n",
        "    * operations\n",
        "    * graphs\n",
        "    * sessions\n",
        "  * Build a simple TensorFlow program that creates a default graph, and a session that runs the graph"
      ]
    },
    {
      "metadata": {
        "id": "YMG9mHPdzahz",
        "colab_type": "text"
      },
      "cell_type": "markdown",
      "source": [
        "**Note:** Please read through this tutorial carefully. The TensorFlow programming model is probably different from others that you have encountered, and thus may not be as intuitive as you'd expect."
      ]
    },
    {
      "metadata": {
        "id": "NzKsjX-ufyVY",
        "colab_type": "text"
      },
      "cell_type": "markdown",
      "source": [
        "## Overview of Concepts\n",
        "\n",
        "TensorFlow gets its name from **tensors**, which are arrays of arbitrary dimensionality. Using TensorFlow, you can manipulate tensors with a very high number of dimensions. That said, most of the time you will work with one or more of the following low-dimensional tensors:\n",
        "\n",
        "  * A **scalar** is a 0-d array (a 0th-order tensor).  For example, `\"Howdy\"` or `5`\n",
        "  * A **vector** is a 1-d array (a 1st-order tensor).  For example, `[2, 3, 5, 7, 11]` or `[5]`\n",
        "  * A **matrix** is a 2-d array (a 2nd-order tensor).  For example, `[[3.1, 8.2, 5.9][4.3, -2.7, 6.5]]`\n",
        "\n",
        "TensorFlow **operations** create, destroy, and manipulate tensors.  Most of the lines of code in a typical TensorFlow program are operations.\n",
        "\n",
        "A TensorFlow **graph** (also known as a **computational graph** or a **dataflow graph**) is, yes, a graph data structure.  A graph's nodes are operations (in TensorFlow, every operation is associated with a graph).  Many TensorFlow programs consist of a single graph, but TensorFlow programs may optionally create multiple graphs. A graph's nodes are operations; a graph's edges are tensors. Tensors flow through the graph, manipulated at each node by an operation. The output tensor of one operation often becomes the input tensor to a subsequent operation. TensorFlow implements a **lazy execution model,** meaning that nodes are only computed when needed, based on the needs of associated nodes.\n",
        "\n",
        "Tensors can be stored in the graph as **constants** or **variables**. As you might guess, constants hold tensors whose values can't change, while variables hold tensors whose values can change. However, what you may not have guessed is that constants and variables are just more operations in the graph. A constant is an operation that always returns the same tensor value. A variable is an operation that will return whichever tensor has been assigned to it.\n",
        "\n",
        "To define a constant, use the `tf.constant` operator and pass in its value. For example:\n",
        "\n",
        "```\n",
        "  x = tf.constant(5.2)\n",
        "```\n",
        "\n",
        "Similarly, you can create a variable like this:\n",
        "\n",
        "```\n",
        "  y = tf.Variable([5])\n",
        "```\n",
        "\n",
        "Or you can create the variable first and then subsequently assign a value like this (note that you always have to specify a default value):\n",
        "\n",
        "```\n",
        "  y = tf.Variable([0])\n",
        "  y = y.assign([5])\n",
        "```\n",
        "\n",
        "Once you've defined some constants or variables, you can combine them with other operations like `tf.add`. When you evaluate the `tf.add` operation, it will call your `tf.constant` or `tf.Variable` operations to get their values and then return a new tensor with the sum of those values.\n",
        "\n",
        "Graphs must run within a TensorFlow **session**, which holds the state for the graph(s) it runs:\n",
        "\n",
        "```\n",
        "with tf.Session() as sess:\n",
        "  initialization = tf.global_variables_initializer()\n",
        "  print y.eval()\n",
        "```\n",
        "\n",
        "When working with `tf.Variable`s, you must explicitly initialize them by calling `tf.global_variables_initializer` at the start of your session, as shown above.\n",
        "\n",
        "**Note:** A session can distribute graph execution across multiple machines (assuming the program is run on some distributed computation framework). For more information, see [Distributed TensorFlow](https://www.tensorflow.org/deploy/distributed).\n",
        "\n",
        "### Summary\n",
        "\n",
        "TensorFlow programming is essentially a two-step process:\n",
        "\n",
        "  1. Assemble constants, variables, and operations into a graph.\n",
        "  2. Evaluate those constants, variables and operations within a session.\n"
      ]
    },
    {
      "metadata": {
        "id": "VL0yWNNdgBpG",
        "colab_type": "text"
      },
      "cell_type": "markdown",
      "source": [
        "## Creating a Simple TensorFlow Program\n",
        "\n",
        "Let's look at how to code a simple TensorFlow program that adds two constants. "
      ]
    },
    {
      "metadata": {
        "id": "mN4R0gmMzah3",
        "colab_type": "text"
      },
      "cell_type": "markdown",
      "source": [
        "### Provide import statements\n",
        "\n",
        "As with nearly all Python programs, you'll begin by specifying some `import` statements.\n",
        "The set of `import` statements required to run a TensorFlow program depends, of course, on the features your program will access. At a minimum, you must provide the `import tensorflow` statement in all TensorFlow programs:"
      ]
    },
    {
      "metadata": {
        "id": "SDbi6heigEGA",
        "colab_type": "code",
        "colab": {
          "base_uri": "https://localhost:8080/",
          "height": 0
        },
        "outputId": "07babafa-c692-464e-cfb1-26539b4cb81e"
      },
      "cell_type": "code",
      "source": [
        "import tensorflow as tf\n",
        "import matplotlib.pyplot as plt\n",
        "import numpy as np\n",
        "import pandas as pd"
      ],
      "execution_count": 2,
      "outputs": []
    },
    {
      "metadata": {
        "id": "6RRT4YIA4fQd",
        "colab_type": "text"
      },
      "cell_type": "markdown",
      "source": [
        "**Don't forget to execute the preceding code block (the `import` statements).**\n",
        "\n",
        "Other common import statements include the following:\n",
        "\n",
        "```\n",
        "  import matplotlib.pyplot as plt # Dataset visualization.\n",
        "  import numpy as np              # Low-level numerical Python library.\n",
        "  import pandas as pd             # Higher-level numerical Python library.\n",
        "```"
      ]
    },
    {
      "metadata": {
        "id": "1aNpvufRgbTD",
        "colab_type": "text"
      },
      "cell_type": "markdown",
      "source": [
        "TensorFlow provides a **default graph**. However, we recommend explicitly creating your own `Graph` instead to facilitate tracking state (e.g., you may wish to work with a different `Graph` in each cell)."
      ]
    },
    {
      "metadata": {
        "id": "Md8ze8e9geMi",
        "colab_type": "code",
        "colab": {
          "base_uri": "https://localhost:8080/",
          "height": 0
        },
        "outputId": "d4d286d0-3b39-4294-8389-73d8ab05fc9a"
      },
      "cell_type": "code",
      "source": [
        "import tensorflow as tf\n",
        "\n",
        "# Create a graph.\n",
        "g = tf.Graph()\n",
        "\n",
        "# Establish the graph as the \"default\" graph.\n",
        "with g.as_default():\n",
        "  # Assemble a graph consisting of the following three operations:\n",
        "  #   * Two tf.constant operations to create the operands.\n",
        "  #   * One tf.add operation to add the two operands.\n",
        "  x = tf.constant(8, name=\"x_const\")\n",
        "  y = tf.constant(15, name=\"y_const\")\n",
        "  my_sum = tf.add(x, y, name=\"x_y_sum\")\n",
        "  z = tf.constant(4,name='z')\n",
        "  new_sum = tf.add(my_sum, z, name ='x_y_z_sum')\n",
        "\n",
        "\n",
        "  # Now create a session.\n",
        "  # The session will run the default graph.\n",
        "  with tf.Session() as sess:\n",
        "    print new_sum.eval()"
      ],
      "execution_count": 6,
      "outputs": [
        {
          "output_type": "stream",
          "text": [
            "27\n"
          ],
          "name": "stdout"
        }
      ]
    },
    {
      "metadata": {
        "id": "7mSz5GVqggZy",
        "colab_type": "text"
      },
      "cell_type": "markdown",
      "source": [
        "## Exercise: Introduce a Third Operand\n",
        "\n",
        "Revise the above code listing to add three integers, instead of two:\n",
        "\n",
        "  1. Define a third scalar integer constant, `z`, and assign it a value of `4`.\n",
        "  2. Add `z` to `my_sum` to yield a new sum.\n",
        "  \n",
        "  **Hint:** See the API docs for [tf.add()](https://www.tensorflow.org/api_docs/python/tf/add) for more details on its function signature.\n",
        "  \n",
        "  3. Re-run the modified code block. Did the program generate the correct grand total?"
      ]
    },
    {
      "metadata": {
        "id": "Zep4W80H9awM",
        "colab_type": "text"
      },
      "cell_type": "markdown",
      "source": [
        "### Solution\n",
        "\n",
        "Click below for the solution."
      ]
    },
    {
      "metadata": {
        "id": "4OTZPqhS9kzu",
        "colab_type": "code",
        "colab": {}
      },
      "cell_type": "code",
      "source": [
        "# Create a graph.\n",
        "g = tf.Graph()\n",
        "\n",
        "# Establish our graph as the \"default\" graph.\n",
        "with g.as_default():\n",
        "  # Assemble a graph consisting of three operations. \n",
        "  # (Creating a tensor is an operation.)\n",
        "  x = tf.constant(8, name=\"x_const\")\n",
        "  y = tf.constant(5, name=\"y_const\")\n",
        "  my_sum = tf.add(x, y, name=\"x_y_sum\")\n",
        "  \n",
        "  # Task 1: Define a third scalar integer constant z.\n",
        "  z = tf.constant(4, name=\"z_const\")\n",
        "  # Task 2: Add z to `my_sum` to yield a new sum.\n",
        "  new_sum = tf.add(my_sum, z, name=\"x_y_z_sum\")\n",
        "\n",
        "  # Now create a session.\n",
        "  # The session will run the default graph.\n",
        "  with tf.Session() as sess:\n",
        "    # Task 3: Ensure the program yields the correct grand total.\n",
        "    print new_sum.eval()"
      ],
      "execution_count": 0,
      "outputs": []
    },
    {
      "metadata": {
        "id": "BrlnLTesgywL",
        "colab_type": "text"
      },
      "cell_type": "markdown",
      "source": [
        "## Further Information\n",
        "\n",
        "To explore basic TensorFlow graphs further, experiment with the following tutorial:\n",
        "\n",
        "  * [Mandelbrot set](https://www.tensorflow.org/tutorials/mandelbrot#mandelbrot-set)"
      ]
    },
    {
      "metadata": {
        "id": "eSsf1IZL9-jR",
        "colab_type": "text"
      },
      "cell_type": "markdown",
      "source": [
        "# Mandelbrot Set\n"
      ]
    },
    {
      "metadata": {
        "id": "f-gXSatY65SZ",
        "colab_type": "code",
        "colab": {
          "base_uri": "https://localhost:8080/",
          "height": 17
        },
        "outputId": "4a8d0287-9b92-46bd-b335-9ebd762fd87e"
      },
      "cell_type": "code",
      "source": [
        "#libs for simulation\n",
        "import tensorflow as tf\n",
        "import numpy as np\n",
        "\n",
        "# libs for visualization\n",
        "import PIL.Image\n",
        "from io import BytesIO\n",
        "from IPython.display import Image, display\n"
      ],
      "execution_count": 7,
      "outputs": []
    },
    {
      "metadata": {
        "id": "TtZwb74O7WJl",
        "colab_type": "code",
        "colab": {
          "base_uri": "https://localhost:8080/",
          "height": 17
        },
        "outputId": "518a4ade-e631-4623-ee0a-55330f6721e8"
      },
      "cell_type": "code",
      "source": [
        "def DisplayFractal(a, fmt='jpeg'):\n",
        "  \"\"\"Display an array of iteration counts as a\n",
        "     colorful picture of a fractal.\"\"\"\n",
        "  a_cyclic = (6.29*a/20.0).reshape(list(a.shape)+[1])\n",
        "  img = np.concatenate([10+20*np.cos(a_cyclic),\n",
        "                        30+50*np.sin(a_cyclic),\n",
        "                        155-80*np.cos(a_cyclic)], 2)\n",
        "  img[a==a.max()]=0\n",
        "  a = img\n",
        "  a = np.uint8(np.clip(a, 0, 255))\n",
        "  f = BytesIO()\n",
        "  PIL.Image.fromarray(a).save(f, fmt)\n",
        "  display(Image(data=f.getvalue()))"
      ],
      "execution_count": 9,
      "outputs": []
    },
    {
      "metadata": {
        "id": "4Zb4aChl7yAe",
        "colab_type": "code",
        "colab": {
          "base_uri": "https://localhost:8080/",
          "height": 17
        },
        "outputId": "80a0779f-94a8-497c-9cc3-d746b8f59320"
      },
      "cell_type": "code",
      "source": [
        "sess = tf.InteractiveSession()"
      ],
      "execution_count": 10,
      "outputs": []
    },
    {
      "metadata": {
        "id": "9EWLF2E-7-fs",
        "colab_type": "code",
        "colab": {
          "base_uri": "https://localhost:8080/",
          "height": 17
        },
        "outputId": "0e5a4889-653f-40ca-a760-57614138fdde"
      },
      "cell_type": "code",
      "source": [
        "Y, X = np.mgrid[-1.3:1.3:0.005, -2:1:0.005]\n",
        "Z = X+1j*Y"
      ],
      "execution_count": 11,
      "outputs": []
    },
    {
      "metadata": {
        "id": "Tk1I7YYK8D7h",
        "colab_type": "code",
        "colab": {
          "base_uri": "https://localhost:8080/",
          "height": 138
        },
        "outputId": "a29c859e-98cf-4c69-a792-787ce5872716"
      },
      "cell_type": "code",
      "source": [
        "Y"
      ],
      "execution_count": 12,
      "outputs": [
        {
          "output_type": "execute_result",
          "data": {
            "text/plain": [
              "array([[-1.3  , -1.3  , -1.3  , ..., -1.3  , -1.3  , -1.3  ],\n",
              "       [-1.295, -1.295, -1.295, ..., -1.295, -1.295, -1.295],\n",
              "       [-1.29 , -1.29 , -1.29 , ..., -1.29 , -1.29 , -1.29 ],\n",
              "       ...,\n",
              "       [ 1.285,  1.285,  1.285, ...,  1.285,  1.285,  1.285],\n",
              "       [ 1.29 ,  1.29 ,  1.29 , ...,  1.29 ,  1.29 ,  1.29 ],\n",
              "       [ 1.295,  1.295,  1.295, ...,  1.295,  1.295,  1.295]])"
            ]
          },
          "metadata": {
            "tags": []
          },
          "execution_count": 12
        }
      ]
    },
    {
      "metadata": {
        "id": "dKx_Ekav8Eml",
        "colab_type": "code",
        "colab": {
          "base_uri": "https://localhost:8080/",
          "height": 138
        },
        "outputId": "ddb9b805-8560-4c6f-9a51-ada6e306e6c3"
      },
      "cell_type": "code",
      "source": [
        "X"
      ],
      "execution_count": 13,
      "outputs": [
        {
          "output_type": "execute_result",
          "data": {
            "text/plain": [
              "array([[-2.   , -1.995, -1.99 , ...,  0.985,  0.99 ,  0.995],\n",
              "       [-2.   , -1.995, -1.99 , ...,  0.985,  0.99 ,  0.995],\n",
              "       [-2.   , -1.995, -1.99 , ...,  0.985,  0.99 ,  0.995],\n",
              "       ...,\n",
              "       [-2.   , -1.995, -1.99 , ...,  0.985,  0.99 ,  0.995],\n",
              "       [-2.   , -1.995, -1.99 , ...,  0.985,  0.99 ,  0.995],\n",
              "       [-2.   , -1.995, -1.99 , ...,  0.985,  0.99 ,  0.995]])"
            ]
          },
          "metadata": {
            "tags": []
          },
          "execution_count": 13
        }
      ]
    },
    {
      "metadata": {
        "id": "FmXHLYV98F6Y",
        "colab_type": "code",
        "colab": {
          "base_uri": "https://localhost:8080/",
          "height": 242
        },
        "outputId": "4e66bd21-76ce-4614-eab3-fdada66c2e27"
      },
      "cell_type": "code",
      "source": [
        "Z"
      ],
      "execution_count": 14,
      "outputs": [
        {
          "output_type": "execute_result",
          "data": {
            "text/plain": [
              "array([[-2.   -1.3j  , -1.995-1.3j  , -1.99 -1.3j  , ...,  0.985-1.3j  ,\n",
              "         0.99 -1.3j  ,  0.995-1.3j  ],\n",
              "       [-2.   -1.295j, -1.995-1.295j, -1.99 -1.295j, ...,  0.985-1.295j,\n",
              "         0.99 -1.295j,  0.995-1.295j],\n",
              "       [-2.   -1.29j , -1.995-1.29j , -1.99 -1.29j , ...,  0.985-1.29j ,\n",
              "         0.99 -1.29j ,  0.995-1.29j ],\n",
              "       ...,\n",
              "       [-2.   +1.285j, -1.995+1.285j, -1.99 +1.285j, ...,  0.985+1.285j,\n",
              "         0.99 +1.285j,  0.995+1.285j],\n",
              "       [-2.   +1.29j , -1.995+1.29j , -1.99 +1.29j , ...,  0.985+1.29j ,\n",
              "         0.99 +1.29j ,  0.995+1.29j ],\n",
              "       [-2.   +1.295j, -1.995+1.295j, -1.99 +1.295j, ...,  0.985+1.295j,\n",
              "         0.99 +1.295j,  0.995+1.295j]])"
            ]
          },
          "metadata": {
            "tags": []
          },
          "execution_count": 14
        }
      ]
    },
    {
      "metadata": {
        "id": "Bg3tmknZ8Rdm",
        "colab_type": "code",
        "colab": {
          "base_uri": "https://localhost:8080/",
          "height": 17
        },
        "outputId": "20e8ee5b-73b4-4350-a78b-41a67db01dd0"
      },
      "cell_type": "code",
      "source": [
        "xs = tf.constant(Z.astype(np.complex64))\n",
        "zs = tf.Variable(xs)\n",
        "ns = tf.Variable(tf.zeros_like(xs, tf.float32))"
      ],
      "execution_count": 15,
      "outputs": []
    },
    {
      "metadata": {
        "id": "XPwZ_ZHE8dc5",
        "colab_type": "code",
        "colab": {
          "base_uri": "https://localhost:8080/",
          "height": 17
        },
        "outputId": "9e043a0d-22f0-4eee-ff2c-8463a82a8d44"
      },
      "cell_type": "code",
      "source": [
        "tf.global_variables_initializer().run()\n"
      ],
      "execution_count": 16,
      "outputs": []
    },
    {
      "metadata": {
        "id": "eEr8d7ly8fu8",
        "colab_type": "code",
        "colab": {
          "base_uri": "https://localhost:8080/",
          "height": 17
        },
        "outputId": "5148dc45-60f4-4859-917a-f839ac3c1634"
      },
      "cell_type": "code",
      "source": [
        "# Compute the new values of z: z^2 + x\n",
        "zs_ = zs*zs + xs\n",
        "\n",
        "# Have we diverged with this new value?\n",
        "not_diverged = tf.abs(zs_) < 4\n",
        "\n",
        "# Operation to update the zs and the iteration count.\n",
        "#\n",
        "# Note: We keep computing zs after they diverge! This\n",
        "#       is very wasteful! There are better, if a little\n",
        "#       less simple, ways to do this.\n",
        "#\n",
        "step = tf.group(\n",
        "  zs.assign(zs_), # sz is the x\n",
        "  ns.assign_add(tf.cast(not_diverged, tf.float32))\n",
        "  )"
      ],
      "execution_count": 17,
      "outputs": []
    },
    {
      "metadata": {
        "id": "xXLOBmMC8t0Z",
        "colab_type": "text"
      },
      "cell_type": "markdown",
      "source": [
        "\n",
        "* tf.group : creates an op that groups multiple operations\n",
        "*  tf.assign  : outputs tensor after value been assigned?, allowsfor chaining\n",
        "*   tf.assign_add : updates ref by adding value to it? assign used for variables\n",
        "* \n",
        "\n"
      ]
    },
    {
      "metadata": {
        "id": "hIPsgNpv80rQ",
        "colab_type": "code",
        "colab": {
          "base_uri": "https://localhost:8080/",
          "height": 17
        },
        "outputId": "af103e1a-665e-4216-c4dc-5c32f5e8f6bb"
      },
      "cell_type": "code",
      "source": [
        "# run it for a couple hundred steps\n",
        "for i in range(200): step.run()\n"
      ],
      "execution_count": 18,
      "outputs": []
    },
    {
      "metadata": {
        "id": "Em-lVwDa9Sxe",
        "colab_type": "code",
        "colab": {
          "base_uri": "https://localhost:8080/",
          "height": 557
        },
        "outputId": "9012b019-bbc2-4bbc-830c-813329a6eb08"
      },
      "cell_type": "code",
      "source": [
        "DisplayFractal(ns.eval())\n"
      ],
      "execution_count": 19,
      "outputs": [
        {
          "output_type": "display_data",
          "data": {
            "text/plain": [
              "<IPython.core.display.Image object>"
            ],
            "image/jpeg": "[encoded data removed]"
          },
          "metadata": {
            "tags": []
          }
        }
      ]
    },
    {
      "metadata": {
        "id": "d-aB7hp39VN0",
        "colab_type": "code",
        "colab": {}
      },
      "cell_type": "code",
      "source": [
        ""
      ],
      "execution_count": 0,
      "outputs": []
    }
  ]
}